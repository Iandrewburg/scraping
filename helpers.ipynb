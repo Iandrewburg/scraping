{
  "nbformat": 4,
  "nbformat_minor": 0,
  "metadata": {
    "colab": {
      "provenance": [],
      "authorship_tag": "ABX9TyNrIxChQLVYXlo1C1Zlmhx5",
      "include_colab_link": true
    },
    "kernelspec": {
      "name": "python3",
      "display_name": "Python 3"
    },
    "language_info": {
      "name": "python"
    }
  },
  "cells": [
    {
      "cell_type": "markdown",
      "metadata": {
        "id": "view-in-github",
        "colab_type": "text"
      },
      "source": [
        "<a href=\"https://colab.research.google.com/github/misrori/scraping/blob/main/helpers.ipynb\" target=\"_parent\"><img src=\"https://colab.research.google.com/assets/colab-badge.svg\" alt=\"Open In Colab\"/></a>"
      ]
    },
    {
      "cell_type": "code",
      "execution_count": null,
      "metadata": {
        "id": "ra8HT7wniKTQ"
      },
      "outputs": [],
      "source": [
        "from bs4 import BeautifulSoup\n",
        "import requests\n",
        "import pandas as pd\n",
        "import cloudscraper\n",
        "\n",
        "def read_html(link):\n",
        "    response = requests.get(link)\n",
        "    return(BeautifulSoup(response.text, 'html'))\n",
        "\n",
        "def read_cloud(link):\n",
        "    scraper = cloudscraper.create_scraper()  # returns a CloudScraper instance\n",
        "    response = scraper.get(link)\n",
        "    return(BeautifulSoup(response.text, 'html'))\n",
        "\n",
        "def get_texts(link_nodes):\n",
        "    return([x.text for x in link_nodes])\n",
        "\n",
        "def strip_text(my_texts):\n",
        "    return([x.strip() for x in my_texts])\n",
        "\n",
        "def get_link(link_nodes):\n",
        "    return([x['href'] for x in link_nodes])\n",
        "\n",
        "def paste0(base_link, numbers):\n",
        "    return([f'{base_link}{s}' for s in numbers])\n",
        "\n",
        "\n",
        "\n"
      ]
    },
    {
      "cell_type": "markdown",
      "source": [
        "# Map your function to a list"
      ],
      "metadata": {
        "id": "vTIgls07imUE"
      }
    },
    {
      "cell_type": "code",
      "source": [
        "def my_func(x):\n",
        "    return((x**3)+1)\n",
        "\n",
        "# map(your_function, your_list)\n",
        "list(map(my_func, range(10)))"
      ],
      "metadata": {
        "id": "gcsRFoX3icQ0"
      },
      "execution_count": null,
      "outputs": []
    },
    {
      "cell_type": "code",
      "source": [
        "# Find\n",
        "# soup.find() # return one elemenent\n",
        "# soup.find_all() # return list of elemenents\n",
        "\n",
        "# id\n",
        "soup.find(id='main-heading')\n",
        "\n",
        "# class\n",
        "soup.find(class_='intro')\n",
        "\n",
        "# tag\n",
        "soup.find('p')\n",
        "\n",
        "\n",
        "# same as select\n",
        "soup.select() # return list of elemenents\n",
        "soup.select_one() # return one elemenent\n",
        "\n",
        "# Select with select and select_one\n",
        "# id\n",
        "soup.select_one('#main-heading')\n",
        "# class\n",
        "soup.select('.intro')\n",
        "# tag\n",
        "soup.select('p')\n"
      ],
      "metadata": {
        "id": "m8N4TKx7ksv1"
      },
      "execution_count": null,
      "outputs": []
    },
    {
      "cell_type": "code",
      "source": [
        "#https://www.boat24.com/en/secondhandboats/\n",
        "#https://www.geekwire.com/geeklife/\n",
        "#https://www.imdb.com/title/tt4154796/"
      ],
      "metadata": {
        "id": "4b0meFW2kss4"
      },
      "execution_count": null,
      "outputs": []
    }
  ]
}